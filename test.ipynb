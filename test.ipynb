{
 "cells": [
  {
   "cell_type": "code",
   "execution_count": 1,
   "metadata": {},
   "outputs": [
    {
     "name": "stdout",
     "output_type": "stream",
     "text": [
      "test_brier_0th_event: 0.1067 ± 0.0030\n",
      "test_brier_1th_event: 0.1021 ± 0.0040\n",
      "test_brier_avg: 0.1044 ± 0.0005\n",
      "test_eipcw_eventwise_cindex: 0.7340 ± 0.0111\n",
      "test_ipcw_avg: 0.8513 ± 0.0093\n",
      "test_ipcw_avg_0th_event: 0.8553 ± 0.0072\n",
      "test_ipcw_avg_1th_event: 0.8473 ± 0.0113\n"
     ]
    }
   ],
   "source": [
    "results = {\n",
    "    \"test_brier_0th_event\": [0.10976622852935834, 0.10373273544959416,],\n",
    "    \"test_brier_1th_event\": [0.09804221797341939, 0.1061306646165277,],\n",
    "    \"test_brier_avg\": [0.10390422325138887, 0.10493170003306093],\n",
    "    \"test_ipcw_avg_0th_event\": [0.848107387613975, 0.8625205112198908],\n",
    "    \"test_ipcw_avg_1th_event\": [0.8359439948707906, 0.8586121838809813,],\n",
    "    \"test_ipcw_avg\": [0.8420256912423828, 0.860566347550436],\n",
    "    \"test_eipcw_eventwise_cindex\": [0.7228915662650602, 0.7450980392156863],\n",
    "}\n",
    "# calculate the average of the results and the std of the results\n",
    "import numpy as np\n",
    "def calculate_average_and_std(results):\n",
    "    averages = {}\n",
    "    stds = {}\n",
    "    for key, values in results.items():\n",
    "        averages[key] = np.mean(values)\n",
    "        stds[key] = np.std(values)\n",
    "    return averages, stds\n",
    "\n",
    "averages, stds = calculate_average_and_std(results)\n",
    "# print the results\n",
    "for key in sorted(averages.keys()):\n",
    "    print(f\"{key}: {averages[key]:.4f} ± {stds[key]:.4f}\")"
   ]
  },
  {
   "cell_type": "code",
   "execution_count": 1,
   "metadata": {},
   "outputs": [
    {
     "name": "stdout",
     "output_type": "stream",
     "text": [
      "test_brier_0th_event: 0.1047 ± 0.0002\n",
      "test_brier_1th_event: 0.0994 ± 0.0012\n",
      "test_brier_avg: 0.1021 ± 0.0005\n",
      "test_eipcw_eventwise_cindex: 0.6477 ± 0.0267\n",
      "test_ipcw_avg: 0.8500 ± 0.0044\n",
      "test_ipcw_avg_0th_event: 0.8446 ± 0.0022\n",
      "test_ipcw_avg_1th_event: 0.8554 ± 0.0066\n"
     ]
    }
   ],
   "source": [
    "results = {\n",
    "    \"test_brier_0th_event\": [0.10487218199378326, 0.10454063766639302,],\n",
    "    \"test_brier_1th_event\": [0.09823392252152408, 0.10061322038790109,],\n",
    "    \"test_brier_avg\": [0.10155305225765367, 0.10257692902714705],\n",
    "    \"test_ipcw_avg_0th_event\": [0.8467654831932533, 0.8423666285481073],\n",
    "    \"test_ipcw_avg_1th_event\": [0.862022782105241, 0.8488232815155962,],\n",
    "    \"test_ipcw_avg\": [0.8543941326492471, 0.8455949550318518],\n",
    "    \"test_eipcw_eventwise_cindex\": [0.6744186046511628, 0.6210526315789474],\n",
    "}\n",
    "# calculate the average of the results and the std of the results\n",
    "import numpy as np\n",
    "def calculate_average_and_std(results):\n",
    "    averages = {}\n",
    "    stds = {}\n",
    "    for key, values in results.items():\n",
    "        averages[key] = np.mean(values)\n",
    "        stds[key] = np.std(values)\n",
    "    return averages, stds\n",
    "\n",
    "averages, stds = calculate_average_and_std(results)\n",
    "# print the results\n",
    "for key in sorted(averages.keys()):\n",
    "    print(f\"{key}: {averages[key]:.4f} ± {stds[key]:.4f}\")"
   ]
  },
  {
   "cell_type": "code",
   "execution_count": 3,
   "metadata": {},
   "outputs": [
    {
     "name": "stdout",
     "output_type": "stream",
     "text": [
      "test_brier_0th_event: 0.0857 ± 0.0001\n",
      "test_brier_1th_event: 0.0841 ± 0.0001\n",
      "test_brier_avg: 0.0849 ± 0.0000\n",
      "test_eipcw_eventwise_cindex: 0.6788 ± 0.0054\n",
      "test_ipcw_avg: 0.8540 ± 0.0000\n",
      "test_ipcw_avg_0th_event: 0.8531 ± 0.0064\n",
      "test_ipcw_avg_1th_event: 0.8550 ± 0.0065\n"
     ]
    }
   ],
   "source": [
    "results = {\n",
    "    \"test_brier_0th_event\": [0.08573217259337428, 0.08561829126624927,],\n",
    "    \"test_brier_1th_event\": [0.08396465102544785, 0.08420357265229417,],\n",
    "    \"test_brier_avg\": [0.08484841180941106, 0.08491093195927171],\n",
    "    \"test_ipcw_avg_0th_event\": [0.8595055414559984, 0.8466262726656155],\n",
    "    \"test_ipcw_avg_1th_event\": [0.8485310044948349, 0.8614636769226476,],\n",
    "    \"test_ipcw_avg\": [0.8540182729754167, 0.8540449747941316],\n",
    "    \"test_eipcw_eventwise_cindex\": [0.6842105263157895, 0.673469387755102],\n",
    "}\n",
    "# calculate the average of the results and the std of the results\n",
    "import numpy as np\n",
    "def calculate_average_and_std(results):\n",
    "    averages = {}\n",
    "    stds = {}\n",
    "    for key, values in results.items():\n",
    "        averages[key] = np.mean(values)\n",
    "        stds[key] = np.std(values)\n",
    "    return averages, stds\n",
    "\n",
    "averages, stds = calculate_average_and_std(results)\n",
    "# print the results\n",
    "for key in sorted(averages.keys()):\n",
    "    print(f\"{key}: {averages[key]:.4f} ± {stds[key]:.4f}\")"
   ]
  }
 ],
 "metadata": {
  "kernelspec": {
   "display_name": "base",
   "language": "python",
   "name": "python3"
  },
  "language_info": {
   "codemirror_mode": {
    "name": "ipython",
    "version": 3
   },
   "file_extension": ".py",
   "mimetype": "text/x-python",
   "name": "python",
   "nbconvert_exporter": "python",
   "pygments_lexer": "ipython3",
   "version": "3.11.5"
  }
 },
 "nbformat": 4,
 "nbformat_minor": 2
}
